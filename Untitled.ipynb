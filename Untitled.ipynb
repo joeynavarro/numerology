{
 "cells": [
  {
   "cell_type": "code",
   "execution_count": 1,
   "id": "0264b0d5",
   "metadata": {},
   "outputs": [],
   "source": [
    "#imports\n",
    "import pandas as pd"
   ]
  },
  {
   "cell_type": "code",
   "execution_count": 2,
   "id": "349052d3",
   "metadata": {},
   "outputs": [],
   "source": [
    "#challenge = -1\n",
    "#neutral = 1\n",
    "#compatible = 2\n",
    "#natural match = 3\n",
    "matches = {1:{1:3,2:-1,3:2,4:-1,5:3,6:-1,7:3,8:1,9:2},\n",
    "           2:{1:-1,2:3,3:2,4:3,5:-1,6:2,7:-1,8:3,9:1},\n",
    "           3:{1:2,2:2,3:3,4:-1,5:2,6:3,7:-1,8:-1,9:3},\n",
    "           4:{1:-1,2:3,3:-1,4:3,5:-1,6:2,7:2,8:3,9:-1},\n",
    "           5:{1:3,2:-1,3:2,4:-1,5:3,6:-1,7:3,8:1,9:2},\n",
    "           6:{1:-1,2:2,3:3,4:2,5:-1,6:3,7:-1,8:2,9:3},\n",
    "           7:{1:3,2:-1,3:-1,4:2,5:3,6:-1,7:3,8:-1,9:1},\n",
    "           8:{1:1,2:3,3:-1,4:3,5:1,6:2,7:-1,8:3,9:-1},\n",
    "           9:{1:2,2:1,3:3,4:-1,5:2,6:3,7:1,8:-1,9:3}}"
   ]
  },
  {
   "cell_type": "code",
   "execution_count": null,
   "id": "c7fa0a6f",
   "metadata": {},
   "outputs": [],
   "source": [
    "comp_matrix = []\n",
    "for a in range(1,10):#1st no\n",
    "    for b in range(1,10): #2nd no\n",
    "        for c in range(1,10): #3rd no\n",
    "            for d in range(1,10): #4th no\n",
    "                for e in range(1,10): #5th no\n",
    "                    for f in range(1,10): #6th no\n",
    "                        for g in range(1,10): #7th no\n",
    "                            for h in range(1,10): #8th no\n",
    "                                for i in range(1,10): #9th no\n",
    "                                    for j in range(1,10): #10th no\n",
    "                                        for k in range(1,10): #11th no\n",
    "                                            for l in range(1,10): #12th no\n",
    "                                                comp_per = round((((matches[a][g]) + matches[b][h] + (matches[c][i]*0.8) + (matches[d][j]*1.8) + matches[e][k] + matches[f][l])/20.3)*100)\n",
    "                                                comp_matrix.append([a,b,c,d,e,f,g,h,i,j,k,l,comp_per])    "
   ]
  },
  {
   "cell_type": "code",
   "execution_count": null,
   "id": "b819d8dc",
   "metadata": {},
   "outputs": [],
   "source": [
    "df = pd.DataFrame(comp_matrix)"
   ]
  }
 ],
 "metadata": {
  "kernelspec": {
   "display_name": "Python 3 (ipykernel)",
   "language": "python",
   "name": "python3"
  },
  "language_info": {
   "codemirror_mode": {
    "name": "ipython",
    "version": 3
   },
   "file_extension": ".py",
   "mimetype": "text/x-python",
   "name": "python",
   "nbconvert_exporter": "python",
   "pygments_lexer": "ipython3",
   "version": "3.9.6"
  }
 },
 "nbformat": 4,
 "nbformat_minor": 5
}
