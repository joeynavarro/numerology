{
 "cells": [
  {
   "cell_type": "code",
   "execution_count": null,
   "id": "0ad7d8ca-b801-4430-92c2-951cca2b15a0",
   "metadata": {},
   "outputs": [],
   "source": []
  },
  {
   "cell_type": "code",
   "execution_count": 3,
   "id": "ed4dfb69-3a51-4232-ac7f-c92b59aba748",
   "metadata": {},
   "outputs": [],
   "source": [
    "import sys\n",
    "sys.path.insert(0, './modules')\n",
    "from reductions_spreads_matches import name_no_calc, dob_no_calc, single_person_spread, two_person_match_spread, two_person_match_reductions\n",
    "from reductions_spreads_matches import evaluate_relationship, calculate_percentage_match, match_compatibility"
   ]
  },
  {
   "cell_type": "code",
   "execution_count": 19,
   "id": "69933edf-f6db-4aed-9e9a-e286cb99bab7",
   "metadata": {},
   "outputs": [],
   "source": [
    "name_p1 = 'Joey Navarro'\n",
    "dob_p1 = '03201994'\n",
    "\n",
    "name_p2 = 'Betania Ruiz'\n",
    "dob_p2 = '04242000'"
   ]
  },
  {
   "cell_type": "code",
   "execution_count": 20,
   "id": "217823de-38c4-45f7-b793-7c78a893bd03",
   "metadata": {},
   "outputs": [
    {
     "name": "stdout",
     "output_type": "stream",
     "text": [
      "1891[2]/5*\n",
      "Soul: 1\n",
      "Personality: 8\n",
      "Name Power: 9\n",
      "First Impression: 1\n",
      "Life Path: 2\n",
      "Attitude: 5\n"
     ]
    }
   ],
   "source": [
    "single_person_spread(name_p1, dob_p1)"
   ]
  },
  {
   "cell_type": "code",
   "execution_count": 21,
   "id": "03893fd4-b879-40ee-8738-48049a49742c",
   "metadata": {},
   "outputs": [
    {
     "name": "stdout",
     "output_type": "stream",
     "text": [
      "1893[6]/1*\n",
      "Soul: 1\n",
      "Personality: 8\n",
      "Name Power: 9\n",
      "First Impression: 3\n",
      "Life Path: 6\n",
      "Attitude: 1\n"
     ]
    }
   ],
   "source": [
    "single_person_spread(name_p2, dob_p2)"
   ]
  },
  {
   "cell_type": "code",
   "execution_count": 16,
   "id": "ed597435-a6b3-4a87-b35e-b58d5c5eaa28",
   "metadata": {},
   "outputs": [
    {
     "name": "stdout",
     "output_type": "stream",
     "text": [
      "Joey Navarro: 1891[2]/5*\n",
      "Betania Ruiz: 1893[6]/1*\n"
     ]
    }
   ],
   "source": [
    "two_person_match_spread(name_p1, dob_p1, name_p2, dob_p2)"
   ]
  },
  {
   "cell_type": "code",
   "execution_count": 17,
   "id": "8f274e2c-4f0a-465d-b791-912d5b0fd279",
   "metadata": {},
   "outputs": [
    {
     "data": {
      "text/plain": [
       "{'Soul': 'Natural Match',\n",
       " 'Personality': 'Natural Match',\n",
       " 'Name Power': 'Natural Match',\n",
       " 'First Impression': 'Compatible',\n",
       " 'Life Path': 'Compatible',\n",
       " 'Attitude': 'Natural Match'}"
      ]
     },
     "execution_count": 17,
     "metadata": {},
     "output_type": "execute_result"
    }
   ],
   "source": [
    "evaluate_relationship(name_p1, dob_p1, name_p2, dob_p2)"
   ]
  },
  {
   "cell_type": "code",
   "execution_count": 18,
   "id": "0892c12f-180c-4298-af79-028b3a1a1cc1",
   "metadata": {},
   "outputs": [
    {
     "data": {
      "text/plain": [
       "'Overall Match: 93.33%'"
      ]
     },
     "execution_count": 18,
     "metadata": {},
     "output_type": "execute_result"
    }
   ],
   "source": [
    "match_compatibility(name_p1, dob_p1, name_p2, dob_p2)"
   ]
  },
  {
   "cell_type": "code",
   "execution_count": null,
   "id": "e416769d-2538-4cd9-ae76-f3cb143185f4",
   "metadata": {},
   "outputs": [],
   "source": []
  }
 ],
 "metadata": {
  "kernelspec": {
   "display_name": "Python 3 (ipykernel)",
   "language": "python",
   "name": "python3"
  },
  "language_info": {
   "codemirror_mode": {
    "name": "ipython",
    "version": 3
   },
   "file_extension": ".py",
   "mimetype": "text/x-python",
   "name": "python",
   "nbconvert_exporter": "python",
   "pygments_lexer": "ipython3",
   "version": "3.12.2"
  }
 },
 "nbformat": 4,
 "nbformat_minor": 5
}
