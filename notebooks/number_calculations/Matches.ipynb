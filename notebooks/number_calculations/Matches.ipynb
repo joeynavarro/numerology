{
 "cells": [
  {
   "cell_type": "code",
   "execution_count": null,
   "id": "2f90f804-4269-4906-b641-db0001005e99",
   "metadata": {},
   "outputs": [],
   "source": [
    "\n",
    "social_match_dic = {1 : {[1,5,7] : 'natural_match', [3,9]:'compatible', [8]: 'neutral', [2,4,6]: 'challenge'},\n",
    "                    2 : {[2,4,8] : 'natural_match', [3,6]:'compatible', [9]: 'neutral', [1,5,7]: 'challenge'},\n",
    "                    3 : {[3,6,9] : 'natural_match', [1,2,5]:'compatible', []: 'neutral', [4,7,8]: 'challenge'},\n",
    "                    4 : {[2,4,8] : 'natural_match', [6,7]:'compatible', []: 'neutral', [1,3,5,9]: 'challenge'},\n",
    "                    5 : {[1,5,7] : 'natural_match', [3,9]:'compatible', [8]: 'neutral', [2,4,6]: 'challenge'},\n",
    "                    6 : {[3,6,9] : 'natural_match', [2,4,8]:'compatible', []: 'neutral', [1,5,7]: 'challenge'},\n",
    "                    7 : {[1,5,7] : 'natural_match', [4]:'compatible', [9]: 'neutral', [2,3,6,8]: 'challenge'},\n",
    "                    8 : {[2,4,8] : 'natural_match', [6]:'compatible', [1,5]: 'neutral', [3,7,9]: 'challenge'},\n",
    "                    9 : {[3,6,9] : 'natural_match', [1,5]:'compatible', [2,7]: 'neutral', [4,8]: 'challenge'}\n",
    "                }"
   ]
  },
  {
   "cell_type": "code",
   "execution_count": null,
   "id": "27b924a7-c03a-441b-9363-1c10c8d55a73",
   "metadata": {},
   "outputs": [],
   "source": []
  }
 ],
 "metadata": {
  "kernelspec": {
   "display_name": "Python 3 (ipykernel)",
   "language": "python",
   "name": "python3"
  },
  "language_info": {
   "codemirror_mode": {
    "name": "ipython",
    "version": 3
   },
   "file_extension": ".py",
   "mimetype": "text/x-python",
   "name": "python",
   "nbconvert_exporter": "python",
   "pygments_lexer": "ipython3",
   "version": "3.12.2"
  }
 },
 "nbformat": 4,
 "nbformat_minor": 5
}
