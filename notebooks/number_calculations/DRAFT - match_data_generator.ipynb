{
 "cells": [
  {
   "cell_type": "code",
   "execution_count": 5,
   "id": "0264b0d5",
   "metadata": {},
   "outputs": [],
   "source": [
    "import pandas as pd\n",
    "import random"
   ]
  },
  {
   "cell_type": "code",
   "execution_count": 215,
   "id": "c7fa0a6f",
   "metadata": {},
   "outputs": [],
   "source": [
    "def number_dataframe_generator(dataframe_length):\n",
    "   \n",
    "    def random_nn():\n",
    "        vowels = random.randint(1,9)\n",
    "        consenants = random.randint(1,9)\n",
    "        influence = sum([vowels, consenants])\n",
    "        while len(str(influence)) > 1:\n",
    "            influence = sum([int(i) for i in str(influence)])\n",
    "        return [vowels, consenants, influence]\n",
    "    \n",
    "    def random_bd():\n",
    "        month = random.randint(1,9)\n",
    "        day = random.randint(1,9)\n",
    "        year = random.randint(1,9)\n",
    "        life_path = sum([month,day,year])\n",
    "        attitude = sum([month,day])\n",
    "        while len(str(life_path)) > 1:\n",
    "            life_path = sum([int(i) for i in str(life_path)])\n",
    "        while len(str(attitude)) > 1:\n",
    "            attitude = sum([int(i) for i in str(attitude)])\n",
    "        return[(life_path), day, attitude]\n",
    "    \n",
    "    def compatibility_match(person_1, person_2):\n",
    "        match_lst = []\n",
    "        #challenge = 0\n",
    "        #neutral = 2\n",
    "        #compatible = 3\n",
    "        #natural match = 5\n",
    "        matches = {1:{1:5,2:0,3:3,4:0,5:5,6:0,7:5,8:2,9:3},\n",
    "                   2:{1:0,2:5,3:3,4:5,5:0,6:3,7:0,8:5,9:2},\n",
    "                   3:{1:3,2:3,3:5,4:0,5:3,6:5,7:0,8:0,9:5},\n",
    "                   4:{1:0,2:5,3:0,4:5,5:0,6:3,7:3,8:5,9:0},\n",
    "                   5:{1:5,2:0,3:3,4:0,5:5,6:0,7:5,8:2,9:3},\n",
    "                   6:{1:0,2:3,3:5,4:3,5:0,6:5,7:0,8:3,9:5},\n",
    "                   7:{1:5,2:0,3:0,4:3,5:5,6:0,7:5,8:0,9:2},\n",
    "                   8:{1:2,2:5,3:0,4:5,5:2,6:3,7:0,8:5,9:0},\n",
    "                   9:{1:3,2:2,3:5,4:0,5:3,6:5,7:2,8:0,9:5}}\n",
    "        for i in range(len(person_1)):\n",
    "            match_lst.append(matches[person_1[i]][person_2[i]])\n",
    "        return sum(match_lst)\n",
    "    \n",
    "    match_combinations = []\n",
    "    for l in range(0,dataframe_length):\n",
    "        person_1 = random_nn() + random_bd()\n",
    "        person_2 = random_nn() + random_bd()\n",
    "        persons_match = person_1 + person_2 + [round((compatibility_match(person_1, person_2)/30)*100)]\n",
    "        match_combinations.append(persons_match)\n",
    "    df = pd.DataFrame(match_combinations, columns = ['p1_soul_urge', 'p1_personality', 'p1_name_influence', 'p1_life_path', 'p1_first_impression', 'p1_attitude',\n",
    "                                                         'p2_soul_urge', 'p2_personality', 'p2_name_influence', 'p2_life_path', 'p2_first_impression', 'p2_attitude',\n",
    "                                                         'percent_compatibility'])\n",
    "    return(df)"
   ]
  },
  {
   "cell_type": "code",
   "execution_count": 217,
   "id": "96cec1e1",
   "metadata": {},
   "outputs": [],
   "source": [
    "number_dataframe_generator(400000).to_csv('./data/match_data.csv', index = False)"
   ]
  }
 ],
 "metadata": {
  "kernelspec": {
   "display_name": "Python 3 (ipykernel)",
   "language": "python",
   "name": "python3"
  },
  "language_info": {
   "codemirror_mode": {
    "name": "ipython",
    "version": 3
   },
   "file_extension": ".py",
   "mimetype": "text/x-python",
   "name": "python",
   "nbconvert_exporter": "python",
   "pygments_lexer": "ipython3",
   "version": "3.9.6"
  }
 },
 "nbformat": 4,
 "nbformat_minor": 5
}
